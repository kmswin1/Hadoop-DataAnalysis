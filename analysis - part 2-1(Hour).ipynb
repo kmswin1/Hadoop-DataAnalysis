{
 "cells": [
  {
   "cell_type": "code",
   "execution_count": 3,
   "metadata": {},
   "outputs": [
    {
     "data": {
      "text/html": [
       "\n",
       "            <div>\n",
       "                <p><b>SparkSession - hive</b></p>\n",
       "                \n",
       "        <div>\n",
       "            <p><b>SparkContext</b></p>\n",
       "\n",
       "            <p><a href=\"http://10.51.34.25:4040\">Spark UI</a></p>\n",
       "\n",
       "            <dl>\n",
       "              <dt>Version</dt>\n",
       "                <dd><code>v2.2.0</code></dd>\n",
       "              <dt>Master</dt>\n",
       "                <dd><code>yarn</code></dd>\n",
       "              <dt>AppName</dt>\n",
       "                <dd><code>jupyter notebook (lucas.0804)</code></dd>\n",
       "            </dl>\n",
       "        </div>\n",
       "        \n",
       "            </div>\n",
       "        "
      ],
      "text/plain": [
       "<pyspark.sql.session.SparkSession at 0x7f07b8345ed0>"
      ]
     },
     "execution_count": 3,
     "metadata": {},
     "output_type": "execute_result"
    }
   ],
   "source": [
    "spark"
   ]
  },
  {
   "cell_type": "code",
   "execution_count": 4,
   "metadata": {},
   "outputs": [],
   "source": [
    "import json\n",
    "import numpy as np\n",
    "import time\n",
    "from collections import Counter\n",
    "import matplotlib\n",
    "import matplotlib.pyplot as plt\n",
    "import plotly.plotly as py\n",
    "import plotly.graph_objs as go\n",
    "import numpy as np\n",
    "from matplotlib import font_manager, rc"
   ]
  },
  {
   "cell_type": "code",
   "execution_count": 9,
   "metadata": {},
   "outputs": [],
   "source": [
    "def preprocessing(data):\n",
    "    data = data.filter((data.inflow_channel == \"i\") & (data.tabcode == \"tot\"))\n",
    "    return data"
   ]
  },
  {
   "cell_type": "code",
   "execution_count": 10,
   "metadata": {},
   "outputs": [],
   "source": [
    "query_data = spark.read.json('/Log/Type=Search/SubType1=Dialog/SubType2=Hour/Device=PC/Kind=Query/Year=2019/Month=07/Day=14/Hour=20')\n",
    "click_data = spark.read.json('/Log/Type=Search/SubType1=Dialog/SubType2=Hour/Device=PC/Kind=Click/Year=2019/Month=07/Day=14/Hour=20')"
   ]
  },
  {
   "cell_type": "code",
   "execution_count": 11,
   "metadata": {},
   "outputs": [],
   "source": [
    "query_data = preprocessing(query_data)\n",
    "click_data = preprocessing(click_data)"
   ]
  },
  {
   "cell_type": "code",
   "execution_count": 12,
   "metadata": {},
   "outputs": [],
   "source": [
    "ser_query = query_data.filter(query_data.display.SER.isNotNull()).select(\"display.SER.code\")"
   ]
  },
  {
   "cell_type": "code",
   "execution_count": 13,
   "metadata": {},
   "outputs": [],
   "source": [
    "ser_click = click_data.filter(click_data.collection.isNotNull()).select('collection.code')"
   ]
  },
  {
   "cell_type": "code",
   "execution_count": 14,
   "metadata": {},
   "outputs": [],
   "source": [
    "def flatten(list):\n",
    "    li = []\n",
    "    for meta in list:\n",
    "        if type(meta) == type([]):\n",
    "            li.extend(flatten(meta))\n",
    "        else:\n",
    "            li.append(meta)\n",
    "    return li"
   ]
  },
  {
   "cell_type": "code",
   "execution_count": 28,
   "metadata": {},
   "outputs": [],
   "source": [
    "code_list = []\n",
    "ser = ser_query.collect()\n",
    "for meta in ser:\n",
    "    code_list.append(meta[0])\n",
    "code_list = flatten(code_list)"
   ]
  },
  {
   "cell_type": "code",
   "execution_count": 29,
   "metadata": {},
   "outputs": [],
   "source": [
    "df = sc.parallelize(code_list).map(lambda x: (x,)).toDF([\"code\"])"
   ]
  },
  {
   "cell_type": "code",
   "execution_count": 30,
   "metadata": {},
   "outputs": [],
   "source": [
    "code_count = df.groupBy(\"code\").count().sort(\"count\",ascending=False).withColumnRenamed('count','code_count')\n",
    "code_count_list = code_count.collect()"
   ]
  },
  {
   "cell_type": "code",
   "execution_count": 42,
   "metadata": {},
   "outputs": [
    {
     "data": {
      "text/plain": [
       "[Row(code=u'BR1', code_count=419314),\n",
       " Row(code=u'CCB', code_count=399221),\n",
       " Row(code=u'CLO', code_count=365673),\n",
       " Row(code=u'NNS', code_count=340990),\n",
       " Row(code=u'WSA', code_count=337882),\n",
       " Row(code=u'VO2', code_count=304551),\n",
       " Row(code=u'NKS', code_count=286349),\n",
       " Row(code=u'IIM', code_count=280929),\n",
       " Row(code=u'IVR', code_count=257677),\n",
       " Row(code=u'1DV', code_count=192949)]"
      ]
     },
     "execution_count": 42,
     "metadata": {},
     "output_type": "execute_result"
    }
   ],
   "source": [
    "code_count.take(10)"
   ]
  },
  {
   "cell_type": "code",
   "execution_count": null,
   "metadata": {},
   "outputs": [],
   "source": [
    "ser_query.take(1)"
   ]
  },
  {
   "cell_type": "code",
   "execution_count": 31,
   "metadata": {},
   "outputs": [],
   "source": [
    "code_v = []\n",
    "for meta in code_count_list:\n",
    "    code_v.append(meta[1])"
   ]
  },
  {
   "cell_type": "code",
   "execution_count": 32,
   "metadata": {
    "scrolled": true
   },
   "outputs": [
    {
     "data": {
      "image/png": "[encoded data removed]",
      "text/plain": [
       "<Figure size 432x288 with 1 Axes>"
      ]
     },
     "metadata": {
      "needs_background": "light"
     },
     "output_type": "display_data"
    }
   ],
   "source": [
    "plt.plot(code_v)\n",
    "plt.show()"
   ]
  },
  {
   "cell_type": "code",
   "execution_count": 33,
   "metadata": {},
   "outputs": [],
   "source": [
    "click_count = ser_click.groupBy(\"code\").count().sort(\"count\",ascending=False).withColumnRenamed('count','click_count')"
   ]
  },
  {
   "cell_type": "code",
   "execution_count": 34,
   "metadata": {},
   "outputs": [
    {
     "name": "stdout",
     "output_type": "stream",
     "text": [
      "root\n",
      " |-- code: string (nullable = true)\n",
      " |-- code_count: long (nullable = false)\n",
      "\n",
      "root\n",
      " |-- code: string (nullable = true)\n",
      " |-- click_count: long (nullable = false)\n",
      "\n"
     ]
    }
   ],
   "source": [
    "code_count.printSchema()\n",
    "click_count.printSchema()"
   ]
  },
  {
   "cell_type": "code",
   "execution_count": 35,
   "metadata": {},
   "outputs": [],
   "source": [
    "ctr = code_count.join(click_count, code_count.code == click_count.code, 'inner').drop(click_count.code)"
   ]
  },
  {
   "cell_type": "code",
   "execution_count": 36,
   "metadata": {},
   "outputs": [
    {
     "name": "stdout",
     "output_type": "stream",
     "text": [
      "root\n",
      " |-- code: string (nullable = true)\n",
      " |-- code_count: long (nullable = false)\n",
      " |-- click_count: long (nullable = false)\n",
      "\n"
     ]
    }
   ],
   "source": [
    "ctr.printSchema()"
   ]
  },
  {
   "cell_type": "code",
   "execution_count": 37,
   "metadata": {},
   "outputs": [],
   "source": [
    "ctr = ctr.withColumn('ctr', ctr.click_count / ctr.code_count).sort('ctr',ascending=False)"
   ]
  },
  {
   "cell_type": "code",
   "execution_count": 38,
   "metadata": {},
   "outputs": [],
   "source": [
    "ctr_list = ctr.select(\"code\",\"ctr\",\"code_count\",\"click_count\").collect()"
   ]
  },
  {
   "cell_type": "code",
   "execution_count": 39,
   "metadata": {},
   "outputs": [
    {
     "data": {
      "image/png": "[encoded data removed]",
      "text/plain": [
       "<Figure size 432x288 with 1 Axes>"
      ]
     },
     "metadata": {
      "needs_background": "light"
     },
     "output_type": "display_data"
    },
    {
     "data": {
      "image/png": "[encoded data removed]",
      "text/plain": [
       "<Figure size 432x288 with 1 Axes>"
      ]
     },
     "metadata": {
      "needs_background": "light"
     },
     "output_type": "display_data"
    },
    {
     "data": {
      "image/png": "[encoded data removed]",
      "text/plain": [
       "<Figure size 432x288 with 1 Axes>"
      ]
     },
     "metadata": {
      "needs_background": "light"
     },
     "output_type": "display_data"
    },
    {
     "data": {
      "image/png": "[encoded data removed]",
      "text/plain": [
       "<Figure size 432x288 with 1 Axes>"
      ]
     },
     "metadata": {
      "needs_background": "light"
     },
     "output_type": "display_data"
    }
   ],
   "source": [
    "ctr_v = []\n",
    "ctr_sig = []\n",
    "ctr_tanh = []\n",
    "for ctr in ctr_list:\n",
    "    ctr_v.append(ctr[1])\n",
    "    ctr_sig.append(1/(1+np.exp(-ctr[1])))\n",
    "    ctr_tanh.append((np.exp(ctr[1])-np.exp(-ctr[1]))/(np.exp(ctr[1])+np.exp(-ctr[1])))\n",
    "    \n",
    "plt.plot(ctr_v)\n",
    "plt.show()\n",
    "plt.plot(ctr_sig)\n",
    "plt.show()\n",
    "plt.plot(ctr_tanh)\n",
    "plt.show()\n",
    "plt.plot(np.log(ctr_v))\n",
    "plt.show()"
   ]
  },
  {
   "cell_type": "code",
   "execution_count": 40,
   "metadata": {},
   "outputs": [
    {
     "name": "stdout",
     "output_type": "stream",
     "text": [
      "Row(code=u'CC9', ctr=19.0, code_count=1, click_count=19)\n",
      "Row(code=u'Z7T', ctr=7.519230769230769, code_count=52, click_count=391)\n",
      "Row(code=u'CC4', ctr=6.769230769230769, code_count=13, click_count=88)\n",
      "Row(code=u'CC5', ctr=4.75, code_count=4, click_count=19)\n",
      "Row(code=u'FMU', ctr=4.666666666666667, code_count=3, click_count=14)\n",
      "Row(code=u'CC3', ctr=3.8, code_count=10, click_count=38)\n",
      "Row(code=u'UNS', ctr=3.24031007751938, code_count=516, click_count=1672)\n",
      "Row(code=u'Z1T', ctr=3.1339285714285716, code_count=224, click_count=702)\n",
      "Row(code=u'CC6', ctr=3.0, code_count=2, click_count=6)\n",
      "Row(code=u'CC2', ctr=2.875, code_count=16, click_count=46)\n",
      "Row(code=u'Z8T', ctr=2.582227081055755, code_count=6403, click_count=16534)\n",
      "Row(code=u'CC1', ctr=2.232142857142857, code_count=112, click_count=250)\n",
      "Row(code=u'BK1', ctr=2.0, code_count=13, click_count=26)\n",
      "Row(code=u'MOR', ctr=1.9472222222222222, code_count=360, click_count=701)\n",
      "Row(code=u'TR2', ctr=1.930301240401654, code_count=1693, click_count=3268)\n",
      "Row(code=u'ATM', ctr=1.8628719275549805, code_count=773, click_count=1440)\n",
      "Row(code=u'KDR', ctr=1.8129496402877698, code_count=139, click_count=252)\n",
      "Row(code=u'BU8', ctr=1.7716894977168949, code_count=219, click_count=388)\n",
      "Row(code=u'0SP', ctr=1.634559252772913, code_count=1713, click_count=2800)\n",
      "Row(code=u'BX9', ctr=1.5357142857142858, code_count=28, click_count=43)\n",
      "Row(code=u'IVY', ctr=1.4166666666666667, code_count=12, click_count=17)\n",
      "Row(code=u'AQJ', ctr=1.348936170212766, code_count=235, click_count=317)\n",
      "Row(code=u'FWT', ctr=1.2984848484848486, code_count=660, click_count=857)\n",
      "Row(code=u'HAP', ctr=1.2777777777777777, code_count=18, click_count=23)\n",
      "Row(code=u'Z4T', ctr=1.2534722222222223, code_count=288, click_count=361)\n",
      "Row(code=u'FST', ctr=1.2352941176470589, code_count=51, click_count=63)\n",
      "Row(code=u'FOR', ctr=1.2, code_count=5, click_count=6)\n",
      "Row(code=u'ABT', ctr=1.1452560873215785, code_count=1191, click_count=1364)\n",
      "Row(code=u'TVS', ctr=1.1167701863354038, code_count=805, click_count=899)\n",
      "Row(code=u'UNI', ctr=1.1, code_count=10, click_count=11)\n",
      "Row(code=u'DLP', ctr=1.042796005706134, code_count=1402, click_count=1462)\n",
      "Row(code=u'CC8', ctr=1.0, code_count=13, click_count=13)\n",
      "Row(code=u'SRZ', ctr=1.0, code_count=3, click_count=3)\n",
      "Row(code=u'Z3T', ctr=0.9811320754716981, code_count=212, click_count=208)\n",
      "Row(code=u'BOC', ctr=0.9736842105263158, code_count=152, click_count=148)\n",
      "Row(code=u'Z6T', ctr=0.9588607594936709, code_count=632, click_count=606)\n",
      "Row(code=u'0DL', ctr=0.9228861392006857, code_count=109669, click_count=101212)\n",
      "Row(code=u'SUB', ctr=0.8847583643122676, code_count=269, click_count=238)\n",
      "Row(code=u'HSU', ctr=0.8688524590163934, code_count=61, click_count=53)\n",
      "Row(code=u'LAW', ctr=0.8602620087336245, code_count=229, click_count=197)\n",
      "Row(code=u'Z2T', ctr=0.8367346938775511, code_count=147, click_count=123)\n",
      "Row(code=u'CND', ctr=0.7942332896461337, code_count=763, click_count=606)\n",
      "Row(code=u'FLI', ctr=0.7586206896551724, code_count=29, click_count=22)\n",
      "Row(code=u'EMT', ctr=0.6805555555555556, code_count=216, click_count=147)\n",
      "Row(code=u'B3T', ctr=0.6736650485436894, code_count=8240, click_count=5551)\n",
      "Row(code=u'BBL', ctr=0.6714285714285714, code_count=70, click_count=47)\n",
      "Row(code=u'CC7', ctr=0.6666666666666666, code_count=3, click_count=2)\n",
      "Row(code=u'GG3', ctr=0.6631578947368421, code_count=1330, click_count=882)\n",
      "Row(code=u'DKL', ctr=0.5957446808510638, code_count=47, click_count=28)\n",
      "Row(code=u'KAL', ctr=0.5900621118012422, code_count=805, click_count=475)\n",
      "Row(code=u'WTW', ctr=0.5798319327731093, code_count=119, click_count=69)\n",
      "Row(code=u'OJI', ctr=0.5675675675675675, code_count=37, click_count=21)\n",
      "Row(code=u'LOT', ctr=0.5651927437641724, code_count=1764, click_count=997)\n",
      "Row(code=u'BXQ', ctr=0.5423728813559322, code_count=59, click_count=32)\n",
      "Row(code=u'TVP', ctr=0.4600344443318813, code_count=19742, click_count=9082)\n",
      "Row(code=u'P3T', ctr=0.459915611814346, code_count=237, click_count=109)\n",
      "Row(code=u'EPT', ctr=0.4276315789473684, code_count=304, click_count=130)\n",
      "Row(code=u'ABA', ctr=0.4222222222222222, code_count=45, click_count=19)\n",
      "Row(code=u'DXA', ctr=0.42105263157894735, code_count=19, click_count=8)\n",
      "Row(code=u'AEZ', ctr=0.4104627766599598, code_count=497, click_count=204)\n",
      "Row(code=u'QTQ', ctr=0.4098360655737705, code_count=61, click_count=25)\n",
      "Row(code=u'GGP', ctr=0.3993963782696177, code_count=2982, click_count=1191)\n",
      "Row(code=u'WTM', ctr=0.39655172413793105, code_count=58, click_count=23)\n",
      "Row(code=u'SP5', ctr=0.39387755102040817, code_count=490, click_count=193)\n",
      "Row(code=u'MST', ctr=0.38615179760319573, code_count=751, click_count=290)\n",
      "Row(code=u'EMA', ctr=0.37662337662337664, code_count=308, click_count=116)\n",
      "Row(code=u'GHY', ctr=0.3716216216216216, code_count=148, click_count=55)\n",
      "Row(code=u'RP1', ctr=0.36568986568986567, code_count=4914, click_count=1797)\n",
      "Row(code=u'ZAT', ctr=0.36363636363636365, code_count=11, click_count=4)\n",
      "Row(code=u'TM0', ctr=0.33638634471273937, code_count=1201, click_count=404)\n",
      "Row(code=u'Z9T', ctr=0.3346303501945525, code_count=257, click_count=86)\n",
      "Row(code=u'SNE', ctr=0.3333333333333333, code_count=1014, click_count=338)\n",
      "Row(code=u'EGP', ctr=0.3181818181818182, code_count=44, click_count=14)\n",
      "Row(code=u'EMP', ctr=0.29850746268656714, code_count=201, click_count=60)\n",
      "Row(code=u'CAR', ctr=0.2808988764044944, code_count=2403, click_count=675)\n",
      "Row(code=u'CQX', ctr=0.27972027972027974, code_count=143, click_count=40)\n",
      "Row(code=u'SGG', ctr=0.265625, code_count=64, click_count=17)\n",
      "Row(code=u'SP1', ctr=0.25, code_count=4, click_count=1)\n",
      "Row(code=u'L7T', ctr=0.24905263157894736, code_count=9500, click_count=2366)\n",
      "Row(code=u'E4T', ctr=0.24642857142857144, code_count=840, click_count=207)\n",
      "Row(code=u'BZV', ctr=0.24615384615384617, code_count=65, click_count=16)\n",
      "Row(code=u'SP3', ctr=0.24074074074074073, code_count=108, click_count=26)\n",
      "Row(code=u'YTH', ctr=0.21775147928994082, code_count=845, click_count=184)\n",
      "Row(code=u'DIA', ctr=0.21448467966573817, code_count=6462, click_count=1386)\n",
      "Row(code=u'SP2', ctr=0.20930232558139536, code_count=129, click_count=27)\n",
      "Row(code=u'CIV', ctr=0.202, code_count=500, click_count=101)\n",
      "Row(code=u'EA1', ctr=0.1946564885496183, code_count=786, click_count=153)\n",
      "Row(code=u'LSU', ctr=0.18574859887910328, code_count=1249, click_count=232)\n",
      "Row(code=u'BR1', ctr=0.17875386941528307, code_count=419314, click_count=74954)\n",
      "Row(code=u'FES', ctr=0.17820324005891017, code_count=679, click_count=121)\n",
      "Row(code=u'SGR', ctr=0.17172211350293543, code_count=2044, click_count=351)\n",
      "Row(code=u'MUC', ctr=0.17061611374407584, code_count=211, click_count=36)\n",
      "Row(code=u'CJK', ctr=0.16231884057971013, code_count=690, click_count=112)\n",
      "Row(code=u'WBR', ctr=0.16206896551724137, code_count=290, click_count=47)\n",
      "Row(code=u'PRF', ctr=0.16174548721718532, code_count=48972, click_count=7921)\n",
      "Row(code=u'SNM', ctr=0.16152878263604908, code_count=31790, click_count=5135)\n",
      "Row(code=u'PAM', ctr=0.15714285714285714, code_count=140, click_count=22)\n",
      "Row(code=u'OHV', ctr=0.15536374845869297, code_count=811, click_count=126)\n",
      "Row(code=u'EM1', ctr=0.15167923235092529, code_count=14590, click_count=2213)\n",
      "Row(code=u'CRW', ctr=0.15128593040847202, code_count=661, click_count=100)\n",
      "Row(code=u'FXY', ctr=0.14814814814814814, code_count=27, click_count=4)\n",
      "Row(code=u'BGM', ctr=0.14666666666666667, code_count=75, click_count=11)\n",
      "Row(code=u'ALO', ctr=0.14587332053742802, code_count=1042, click_count=152)\n",
      "Row(code=u'WES', ctr=0.14285714285714285, code_count=14, click_count=2)\n",
      "Row(code=u'BMD', ctr=0.12366484690244481, code_count=4213, click_count=521)\n",
      "Row(code=u'YON', ctr=0.12125, code_count=1600, click_count=194)\n",
      "Row(code=u'GG1', ctr=0.11936453413482181, code_count=2329, click_count=278)\n",
      "Row(code=u'TYV', ctr=0.11751592356687898, code_count=9420, click_count=1107)\n",
      "Row(code=u'MGC', ctr=0.11666666666666667, code_count=60, click_count=7)\n",
      "Row(code=u'SNP', ctr=0.11443348548383014, code_count=118523, click_count=13563)\n",
      "Row(code=u'ESQ', ctr=0.1111111111111111, code_count=45, click_count=5)\n",
      "Row(code=u'BXE', ctr=0.10543302850995159, code_count=1859, click_count=196)\n",
      "Row(code=u'CRA', ctr=0.099609375, code_count=1024, click_count=102)\n",
      "Row(code=u'PLA', ctr=0.0982532751091703, code_count=458, click_count=45)\n",
      "Row(code=u'SP4', ctr=0.0967741935483871, code_count=93, click_count=9)\n",
      "Row(code=u'LOL', ctr=0.09615384615384616, code_count=52, click_count=5)\n",
      "Row(code=u'KIA', ctr=0.09161490683229814, code_count=644, click_count=59)\n",
      "Row(code=u'NNS', ctr=0.08942490982140239, code_count=340990, click_count=30493)\n",
      "Row(code=u'IVR', ctr=0.08896409070270145, code_count=257677, click_count=22924)\n",
      "Row(code=u'FQA', ctr=0.08227848101265822, code_count=474, click_count=39)\n",
      "Row(code=u'VO2', ctr=0.07615801622716721, code_count=304551, click_count=23194)\n",
      "Row(code=u'UEZ', ctr=0.07142857142857142, code_count=1750, click_count=125)\n",
      "Row(code=u'WSA', ctr=0.06755316944968953, code_count=337882, click_count=22825)\n",
      "Row(code=u'1CI', ctr=0.06654888103651355, code_count=16980, click_count=1130)\n",
      "Row(code=u'CCB', ctr=0.06519196134471884, code_count=399221, click_count=26026)\n",
      "Row(code=u'0PL', ctr=0.06482934728450424, code_count=160560, click_count=10409)\n",
      "Row(code=u'CFR', ctr=0.05942790426152948, code_count=8565, click_count=509)\n",
      "Row(code=u'GVS', ctr=0.054307116104868915, code_count=1602, click_count=87)\n",
      "Row(code=u'STR', ctr=0.04938271604938271, code_count=486, click_count=24)\n",
      "Row(code=u'ESV', ctr=0.04888888888888889, code_count=675, click_count=33)\n",
      "Row(code=u'GG2', ctr=0.04727316027625625, code_count=167960, click_count=7940)\n",
      "Row(code=u'TRJ', ctr=0.04475960571313619, code_count=9942, click_count=445)\n",
      "Row(code=u'IIM', ctr=0.03703070882678541, code_count=280929, click_count=10403)\n",
      "Row(code=u'FZZ', ctr=0.03389830508474576, code_count=59, click_count=2)\n",
      "Row(code=u'JIM', ctr=0.03389830508474576, code_count=118, click_count=4)\n",
      "Row(code=u'GYB', ctr=0.033455835762260806, code_count=7891, click_count=264)\n",
      "Row(code=u'PUD', ctr=0.032467532467532464, code_count=308, click_count=10)\n",
      "Row(code=u'1DV', ctr=0.031775235943176695, code_count=192949, click_count=6131)\n",
      "Row(code=u'ISI', ctr=0.02857142857142857, code_count=70, click_count=2)\n",
      "Row(code=u'NKS', ctr=0.02646071751603812, code_count=286349, click_count=7577)\n",
      "Row(code=u'DIC', ctr=0.02221554444182103, code_count=46589, click_count=1035)\n",
      "Row(code=u'MS2', ctr=0.020529296449575254, code_count=36728, click_count=754)\n",
      "Row(code=u'TWU', ctr=0.017722908093278464, code_count=18225, click_count=323)\n",
      "Row(code=u'KOQ', ctr=0.016307875378623972, code_count=36976, click_count=603)\n",
      "Row(code=u'KAS', ctr=0.015205186472396739, code_count=59848, click_count=910)\n",
      "Row(code=u'0SC', ctr=0.01471347444501807, code_count=38740, click_count=570)\n",
      "Row(code=u'0WD', ctr=0.014356923260603527, code_count=33503, click_count=481)\n",
      "Row(code=u'AYF', ctr=0.013891071372450423, code_count=63638, click_count=884)\n",
      "Row(code=u'FAT', ctr=0.012658227848101266, code_count=395, click_count=5)\n",
      "Row(code=u'P5T', ctr=0.009470361276745002, code_count=2851, click_count=27)\n",
      "Row(code=u'BRC', ctr=0.009351511478399764, code_count=176549, click_count=1651)\n",
      "Row(code=u'LOA', ctr=0.009174311926605505, code_count=3597, click_count=33)\n",
      "Row(code=u'AMA', ctr=0.00608725059181603, code_count=2957, click_count=18)\n",
      "Row(code=u'TGV', ctr=0.004975124378109453, code_count=201, click_count=1)\n",
      "Row(code=u'YHJ', ctr=0.004890119601720379, code_count=16973, click_count=83)\n",
      "Row(code=u'LB2', ctr=0.004324478873491123, code_count=111921, click_count=484)\n",
      "Row(code=u'1SB', ctr=0.004217832354511479, code_count=18730, click_count=79)\n",
      "Row(code=u'KTC', ctr=0.003885003885003885, code_count=5148, click_count=20)\n",
      "Row(code=u'VOL', ctr=0.0038295365278868815, code_count=10184, click_count=39)\n",
      "Row(code=u'OHE', ctr=0.0032404406999351912, code_count=3086, click_count=10)\n",
      "Row(code=u'W77', ctr=0.0017536416348465564, code_count=106065, click_count=186)\n",
      "Row(code=u'0BL', ctr=0.0016357870138541146, code_count=29955, click_count=49)\n",
      "Row(code=u'CLO', ctr=0.000229713432492965, code_count=365673, click_count=84)\n"
     ]
    }
   ],
   "source": [
    "for ctr in ctr_list:\n",
    "    print (ctr)"
   ]
  },
  {
   "cell_type": "code",
   "execution_count": null,
   "metadata": {},
   "outputs": [],
   "source": []
  }
 ],
 "metadata": {
  "kernelspec": {
   "display_name": "Python 2 - PySpark",
   "language": "python",
   "name": "python2_spark"
  },
  "language_info": {
   "codemirror_mode": {
    "name": "ipython",
    "version": 2
   },
   "file_extension": ".py",
   "mimetype": "text/x-python",
   "name": "python",
   "nbconvert_exporter": "python",
   "pygments_lexer": "ipython2",
   "version": "2.7.16"
  }
 },
 "nbformat": 4,
 "nbformat_minor": 2
}
