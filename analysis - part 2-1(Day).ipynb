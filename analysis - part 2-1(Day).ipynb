{
 "cells": [
  {
   "cell_type": "code",
   "execution_count": 1,
   "metadata": {},
   "outputs": [
    {
     "data": {
      "text/html": [
       "\n",
       "            <div>\n",
       "                <p><b>SparkSession - hive</b></p>\n",
       "                \n",
       "        <div>\n",
       "            <p><b>SparkContext</b></p>\n",
       "\n",
       "            <p><a href=\"http://10.51.34.25:4041\">Spark UI</a></p>\n",
       "\n",
       "            <dl>\n",
       "              <dt>Version</dt>\n",
       "                <dd><code>v2.2.0</code></dd>\n",
       "              <dt>Master</dt>\n",
       "                <dd><code>yarn</code></dd>\n",
       "              <dt>AppName</dt>\n",
       "                <dd><code>jupyter notebook (lucas.0804)</code></dd>\n",
       "            </dl>\n",
       "        </div>\n",
       "        \n",
       "            </div>\n",
       "        "
      ],
      "text/plain": [
       "<pyspark.sql.session.SparkSession at 0x7f35980a0ed0>"
      ]
     },
     "execution_count": 1,
     "metadata": {},
     "output_type": "execute_result"
    }
   ],
   "source": [
    "spark"
   ]
  },
  {
   "cell_type": "code",
   "execution_count": 5,
   "metadata": {},
   "outputs": [],
   "source": [
    "import json\n",
    "import numpy as np\n",
    "import time\n",
    "from collections import Counter\n",
    "import matplotlib\n",
    "import matplotlib.pyplot as plt\n",
    "import plotly.plotly as py\n",
    "import plotly.graph_objs as go\n",
    "import numpy as np\n",
    "from operator import add"
   ]
  },
  {
   "cell_type": "code",
   "execution_count": 65,
   "metadata": {},
   "outputs": [],
   "source": [
    "from pyspark.sql.functions import explode\n",
    "def preprocessing(data):\n",
    "    print (\"preprocessing ...\")\n",
    "    data = data.filter((data.inflow_channel == \"i\") & (data.tabcode == \"tot\"))\n",
    "    print (\"preprocessing complete\")\n",
    "    return data\n",
    "\n",
    "def make_df(path):\n",
    "    print (\"make_df\")\n",
    "    return spark.read.json(path)\n",
    "    \n",
    "def extract_count(code_data,click_data):\n",
    "    print (\"extract_count ...\")\n",
    "    ser = code_data.filter(code_data.display.SER.isNotNull()).select(explode(\"display.SER.code\")).withColumnRenamed('col','code')\n",
    "    ser_click = click_data.filter(click_data.collection.isNotNull()).select('collection.code')\n",
    "    return ser.groupBy(\"code\").count().sort(\"count\",ascending=False).withColumnRenamed('count','code_count'), \\\n",
    "            ser_click.groupBy(\"code\").count().sort(\"count\",ascending=False).withColumnRenamed('count','click_count')\n",
    "    \n",
    "def calculate_ctr(code_count,click_count):\n",
    "    print \"calculate ctr ...\"\n",
    "    ctr = code_count.join(click_count, code_count.code == click_count.code, 'inner').drop(click_count.code)\n",
    "    ctr = ctr.withColumn('ctr', ctr.click_count / ctr.code_count).sort('ctr',ascending=False)\n",
    "    return ctr"
   ]
  },
  {
   "cell_type": "code",
   "execution_count": 66,
   "metadata": {},
   "outputs": [],
   "source": [
    "pc_query_path = '/Log/Type=Search/SubType1=Dialog/SubType2=Hour/Device=PC/Kind=Query/Year=2019/Month=07/Day=14'\n",
    "pc_click_path = '/Log/Type=Search/SubType1=Dialog/SubType2=Hour/Device=PC/Kind=Click/Year=2019/Month=07/Day=14'\n",
    "mobile_query_path = '/Log/Type=Search/SubType1=Dialog/SubType2=Hour/Device=Mobile/Kind=Query/Year=2019/Month=07/Day=14'\n",
    "mobile_click_path = '/Log/Type=Search/SubType1=Dialog/SubType2=Hour/Device=Mobile/Kind=Click/Year=2019/Month=07/Day=14'"
   ]
  },
  {
   "cell_type": "code",
   "execution_count": 70,
   "metadata": {},
   "outputs": [
    {
     "name": "stdout",
     "output_type": "stream",
     "text": [
      "make_df\n",
      "preprocessing ...\n",
      "preprocessing complete\n",
      "make_df\n",
      "preprocessing ...\n",
      "preprocessing complete\n",
      "make_df\n",
      "preprocessing ...\n",
      "preprocessing complete\n",
      "make_df\n",
      "preprocessing ...\n",
      "preprocessing complete\n"
     ]
    }
   ],
   "source": [
    "pc_query_data = preprocessing(make_df(pc_query_path))\n",
    "pc_click_data = preprocessing(make_df(pc_click_path))\n",
    "mobile_query_data = preprocessing(make_df(mobile_query_path))\n",
    "mobile_click_data = preprocessing(make_df(mobile_click_path))"
   ]
  },
  {
   "cell_type": "code",
   "execution_count": 73,
   "metadata": {},
   "outputs": [
    {
     "name": "stdout",
     "output_type": "stream",
     "text": [
      "extract_count ...\n",
      "extract_count ...\n"
     ]
    }
   ],
   "source": [
    "pc_code_count, pc_click_count = extract_count(pc_query_data,pc_click_data) \n",
    "mobile_code_count, mobile_click_count = extract_count(mobile_query_data,mobile_click_data)"
   ]
  },
  {
   "cell_type": "code",
   "execution_count": 74,
   "metadata": {},
   "outputs": [
    {
     "name": "stdout",
     "output_type": "stream",
     "text": [
      "calculate ctr ...\n",
      "calculate ctr ...\n"
     ]
    }
   ],
   "source": [
    "pc_ctr = calculate_ctr(pc_code_count,pc_click_count)\n",
    "mobile_ctr = calculate_ctr(mobile_code_count,mobile_click_count)"
   ]
  },
  {
   "cell_type": "code",
   "execution_count": 81,
   "metadata": {},
   "outputs": [
    {
     "data": {
      "text/plain": [
       "[Row(code=u'BR1', code_count=7113689),\n",
       " Row(code=u'CCB', code_count=6675063),\n",
       " Row(code=u'CLO', code_count=6145318),\n",
       " Row(code=u'WSA', code_count=5769085),\n",
       " Row(code=u'NNS', code_count=5747598),\n",
       " Row(code=u'VO2', code_count=5012140),\n",
       " Row(code=u'NKS', code_count=4828704),\n",
       " Row(code=u'IIM', code_count=4816643),\n",
       " Row(code=u'IVR', code_count=4130100),\n",
       " Row(code=u'1DV', code_count=3140257)]"
      ]
     },
     "execution_count": 81,
     "metadata": {},
     "output_type": "execute_result"
    }
   ],
   "source": [
    "pc_code_count.take(10)"
   ]
  },
  {
   "cell_type": "code",
   "execution_count": 76,
   "metadata": {},
   "outputs": [],
   "source": [
    "pc_ctr_list = pc_ctr.select(\"code\",\"ctr\",\"code_count\",\"click_count\").collect()"
   ]
  },
  {
   "cell_type": "code",
   "execution_count": 77,
   "metadata": {},
   "outputs": [],
   "source": [
    "mobile_ctr_list = mobile_ctr.select(\"code\",\"ctr\",\"code_count\",\"click_count\").collect()"
   ]
  },
  {
   "cell_type": "code",
   "execution_count": 88,
   "metadata": {},
   "outputs": [],
   "source": [
    "code_k = []\n",
    "code_v = []\n",
    "for meta in pc_ctr_list:\n",
    "    code_k.append(meta[0])\n",
    "    code_v.append(meta[1])"
   ]
  },
  {
   "cell_type": "code",
   "execution_count": 89,
   "metadata": {},
   "outputs": [
    {
     "data": {
      "image/png": "[encoded data removed]",
      "text/plain": [
       "<Figure size 432x288 with 1 Axes>"
      ]
     },
     "metadata": {
      "needs_background": "light"
     },
     "output_type": "display_data"
    }
   ],
   "source": [
    "plt.hist(code_v)\n",
    "plt.show()"
   ]
  },
  {
   "cell_type": "code",
   "execution_count": 90,
   "metadata": {},
   "outputs": [
    {
     "data": {
      "image/png": "[encoded data removed]",
      "text/plain": [
       "<Figure size 432x288 with 1 Axes>"
      ]
     },
     "metadata": {
      "needs_background": "light"
     },
     "output_type": "display_data"
    }
   ],
   "source": [
    "plt.plot(code_v)\n",
    "plt.show()"
   ]
  },
  {
   "cell_type": "code",
   "execution_count": null,
   "metadata": {},
   "outputs": [],
   "source": [
    "click_count = ser_click.groupBy(\"code\").count().sort(\"count\",ascending=False).withColumnRenamed('count','click_count')"
   ]
  },
  {
   "cell_type": "code",
   "execution_count": null,
   "metadata": {},
   "outputs": [],
   "source": [
    "ctr = code_count.join(click_count, code_count.code == click_count.code, 'inner').drop(click_count.code)"
   ]
  },
  {
   "cell_type": "code",
   "execution_count": null,
   "metadata": {},
   "outputs": [],
   "source": [
    "ctr.printSchema()"
   ]
  },
  {
   "cell_type": "code",
   "execution_count": null,
   "metadata": {},
   "outputs": [],
   "source": [
    "ctr = ctr.withColumn('ctr', ctr.click_count / ctr.code_count).sort('ctr',ascending=False)"
   ]
  },
  {
   "cell_type": "code",
   "execution_count": null,
   "metadata": {
    "scrolled": true
   },
   "outputs": [],
   "source": [
    "ctr.printSchema()"
   ]
  },
  {
   "cell_type": "code",
   "execution_count": null,
   "metadata": {},
   "outputs": [],
   "source": [
    "ctr.take(10)"
   ]
  },
  {
   "cell_type": "code",
   "execution_count": null,
   "metadata": {},
   "outputs": [],
   "source": [
    "ctr_list = ctr.select(\"code\",\"ctr\",\"code_count\",\"click_count\").collect()"
   ]
  },
  {
   "cell_type": "code",
   "execution_count": 78,
   "metadata": {},
   "outputs": [
    {
     "data": {
      "image/png": "[encoded data removed]",
      "text/plain": [
       "<Figure size 432x288 with 1 Axes>"
      ]
     },
     "metadata": {
      "needs_background": "light"
     },
     "output_type": "display_data"
    },
    {
     "data": {
      "image/png": "[encoded data removed]",
      "text/plain": [
       "<Figure size 432x288 with 1 Axes>"
      ]
     },
     "metadata": {
      "needs_background": "light"
     },
     "output_type": "display_data"
    },
    {
     "data": {
      "image/png": "[encoded data removed]",
      "text/plain": [
       "<Figure size 432x288 with 1 Axes>"
      ]
     },
     "metadata": {
      "needs_background": "light"
     },
     "output_type": "display_data"
    },
    {
     "data": {
      "image/png": "[encoded data removed]",
      "text/plain": [
       "<Figure size 432x288 with 1 Axes>"
      ]
     },
     "metadata": {
      "needs_background": "light"
     },
     "output_type": "display_data"
    }
   ],
   "source": [
    "ctr_v = []\n",
    "ctr_sig = []\n",
    "ctr_tanh = []\n",
    "for ctr in pc_ctr_list:\n",
    "    ctr_v.append(ctr[1])\n",
    "    ctr_sig.append(1/(1+np.exp(-ctr[1])))\n",
    "    ctr_tanh.append((np.exp(ctr[1])-np.exp(-ctr[1]))/(np.exp(ctr[1])+np.exp(-ctr[1])))\n",
    "    \n",
    "plt.plot(ctr_v)\n",
    "plt.show()\n",
    "plt.plot(ctr_sig)\n",
    "plt.show()\n",
    "plt.plot(ctr_tanh)\n",
    "plt.show()\n",
    "plt.plot(np.log(ctr_v))\n",
    "plt.show()"
   ]
  },
  {
   "cell_type": "code",
   "execution_count": 79,
   "metadata": {},
   "outputs": [
    {
     "name": "stdout",
     "output_type": "stream",
     "text": [
      "Row(code=u'MFS', ctr=9.714285714285714, code_count=7, click_count=68)\n",
      "Row(code=u'Z7T', ctr=6.6516651665166515, code_count=1111, click_count=7390)\n",
      "Row(code=u'Z1T', ctr=4.959664320519762, code_count=3694, click_count=18321)\n",
      "Row(code=u'CC9', ctr=4.027027027027027, code_count=37, click_count=149)\n",
      "Row(code=u'SRZ', ctr=3.682926829268293, code_count=41, click_count=151)\n",
      "Row(code=u'UNS', ctr=3.462657366451174, code_count=11756, click_count=40707)\n",
      "Row(code=u'CC6', ctr=2.9789473684210526, code_count=95, click_count=283)\n",
      "Row(code=u'MAC', ctr=2.75, code_count=8, click_count=22)\n",
      "Row(code=u'CC1', ctr=2.6207438449449976, code_count=1909, click_count=5003)\n",
      "Row(code=u'FMU', ctr=2.6031746031746033, code_count=126, click_count=328)\n",
      "Row(code=u'Z8T', ctr=2.5826695531464834, code_count=121024, click_count=312565)\n",
      "Row(code=u'CC5', ctr=2.4634146341463414, code_count=82, click_count=202)\n",
      "Row(code=u'CC4', ctr=2.3733333333333335, code_count=225, click_count=534)\n",
      "Row(code=u'CC3', ctr=2.288793103448276, code_count=232, click_count=531)\n",
      "Row(code=u'KDR', ctr=2.109751434034417, code_count=2615, click_count=5517)\n",
      "Row(code=u'BK1', ctr=2.09727626459144, code_count=257, click_count=539)\n",
      "Row(code=u'NCS', ctr=1.9230769230769231, code_count=13, click_count=25)\n",
      "Row(code=u'ATM', ctr=1.8944682348800375, code_count=17047, click_count=32295)\n",
      "Row(code=u'MOR', ctr=1.788805008285767, code_count=5431, click_count=9715)\n",
      "Row(code=u'TR2', ctr=1.7532668047448692, code_count=26555, click_count=46558)\n",
      "Row(code=u'ABT', ctr=1.6606982990152193, code_count=12287, click_count=20405)\n",
      "Row(code=u'BX9', ctr=1.6350877192982456, code_count=570, click_count=932)\n",
      "Row(code=u'BU8', ctr=1.6125817502335722, code_count=3211, click_count=5178)\n",
      "Row(code=u'CC8', ctr=1.5432098765432098, code_count=162, click_count=250)\n",
      "Row(code=u'UNI', ctr=1.4881516587677726, code_count=211, click_count=314)\n",
      "Row(code=u'CC2', ctr=1.4524886877828054, code_count=221, click_count=321)\n",
      "Row(code=u'CC7', ctr=1.407079646017699, code_count=113, click_count=159)\n",
      "Row(code=u'HAP', ctr=1.353562005277045, code_count=379, click_count=513)\n",
      "Row(code=u'IVY', ctr=1.328358208955224, code_count=67, click_count=89)\n",
      "Row(code=u'Z4T', ctr=1.1902285479677022, code_count=7307, click_count=8697)\n",
      "Row(code=u'AQJ', ctr=1.1860091128383812, code_count=3731, click_count=4425)\n",
      "Row(code=u'ABA', ctr=1.1791979949874687, code_count=798, click_count=941)\n",
      "Row(code=u'0SP', ctr=1.176805485656769, code_count=31792, click_count=37413)\n",
      "Row(code=u'FWT', ctr=1.1736547275505007, code_count=11782, click_count=13828)\n",
      "Row(code=u'BXQ', ctr=1.154782608695652, code_count=1150, click_count=1328)\n",
      "Row(code=u'FLI', ctr=1.151093439363817, code_count=503, click_count=579)\n",
      "Row(code=u'TVS', ctr=1.1386001386001385, code_count=12987, click_count=14787)\n",
      "Row(code=u'DLP', ctr=1.0360125975626455, code_count=21909, click_count=22698)\n",
      "Row(code=u'Z6T', ctr=0.9416956154351704, code_count=10651, click_count=10030)\n",
      "Row(code=u'0DL', ctr=0.9242975420908259, code_count=1712309, click_count=1582683)\n",
      "Row(code=u'Z3T', ctr=0.8749052312357847, code_count=3957, click_count=3462)\n",
      "Row(code=u'WTW', ctr=0.868844092880837, code_count=3919, click_count=3405)\n",
      "Row(code=u'SUB', ctr=0.8674488267598602, code_count=4006, click_count=3475)\n",
      "Row(code=u'FST', ctr=0.8165784832451499, code_count=1134, click_count=926)\n",
      "Row(code=u'FOR', ctr=0.7741935483870968, code_count=62, click_count=48)\n",
      "Row(code=u'BOC', ctr=0.7648883374689827, code_count=3224, click_count=2466)\n",
      "Row(code=u'CND', ctr=0.753446940356313, code_count=12910, click_count=9727)\n",
      "Row(code=u'LAW', ctr=0.7474058701452713, code_count=3373, click_count=2521)\n",
      "Row(code=u'B3T', ctr=0.7327767235926629, code_count=118575, click_count=86889)\n",
      "Row(code=u'GG3', ctr=0.7099655617735686, code_count=27876, click_count=19791)\n",
      "Row(code=u'HSU', ctr=0.7039835164835165, code_count=1456, click_count=1025)\n",
      "Row(code=u'KAL', ctr=0.69576, code_count=12500, click_count=8697)\n",
      "Row(code=u'EGP', ctr=0.6378961564396494, code_count=1483, click_count=946)\n",
      "Row(code=u'WTM', ctr=0.6288614298323036, code_count=2266, click_count=1425)\n",
      "Row(code=u'DKL', ctr=0.6090133982947625, code_count=821, click_count=500)\n",
      "Row(code=u'EMT', ctr=0.6088571428571429, code_count=3500, click_count=2131)\n",
      "Row(code=u'RP1', ctr=0.5997600087269553, code_count=55002, click_count=32988)\n",
      "Row(code=u'QTQ', ctr=0.5563186813186813, code_count=728, click_count=405)\n",
      "Row(code=u'FFR', ctr=0.5454545454545454, code_count=99, click_count=54)\n",
      "Row(code=u'CQX', ctr=0.5189165950128977, code_count=2326, click_count=1207)\n",
      "Row(code=u'BBL', ctr=0.496090973702914, code_count=1407, click_count=698)\n",
      "Row(code=u'LOT', ctr=0.4954399802809958, code_count=77083, click_count=38190)\n",
      "Row(code=u'AEZ', ctr=0.4907485281749369, code_count=7134, click_count=3501)\n",
      "Row(code=u'EMA', ctr=0.45038006756756754, code_count=4736, click_count=2133)\n",
      "Row(code=u'TVP', ctr=0.4342677931387609, code_count=359352, click_count=156055)\n",
      "Row(code=u'P3T', ctr=0.4171369933299128, code_count=3898, click_count=1626)\n",
      "Row(code=u'SP5', ctr=0.3969984884474196, code_count=9262, click_count=3677)\n",
      "Row(code=u'SP2', ctr=0.37236533957845436, code_count=1281, click_count=477)\n",
      "Row(code=u'GGP', ctr=0.3699648365421439, code_count=57446, click_count=21253)\n",
      "Row(code=u'EMP', ctr=0.360913515537252, code_count=2671, click_count=964)\n",
      "Row(code=u'GHY', ctr=0.3570903747244673, code_count=2722, click_count=972)\n",
      "Row(code=u'FXY', ctr=0.3541666666666667, code_count=240, click_count=85)\n",
      "Row(code=u'MFR', ctr=0.34523809523809523, code_count=252, click_count=87)\n",
      "Row(code=u'DXA', ctr=0.3284518828451883, code_count=478, click_count=157)\n",
      "Row(code=u'SP3', ctr=0.32460732984293195, code_count=1528, click_count=496)\n",
      "Row(code=u'MST', ctr=0.3001489162208372, code_count=18131, click_count=5442)\n",
      "Row(code=u'SNE', ctr=0.29477942105928456, code_count=15822, click_count=4664)\n",
      "Row(code=u'OJI', ctr=0.2845849802371542, code_count=506, click_count=144)\n",
      "Row(code=u'BZV', ctr=0.2753195673549656, code_count=1017, click_count=280)\n",
      "Row(code=u'CAR', ctr=0.2700747857415798, code_count=36638, click_count=9895)\n",
      "Row(code=u'EPT', ctr=0.26456936565239814, code_count=3878, click_count=1026)\n",
      "Row(code=u'Z9T', ctr=0.2585920834320929, code_count=4219, click_count=1091)\n",
      "Row(code=u'ZAT', ctr=0.25333333333333335, code_count=150, click_count=38)\n",
      "Row(code=u'Z2T', ctr=0.2404532102391943, code_count=2383, click_count=573)\n",
      "Row(code=u'L7T', ctr=0.23945193708420326, code_count=148961, click_count=35669)\n",
      "Row(code=u'DIA', ctr=0.23499398267407975, code_count=100543, click_count=23627)\n",
      "Row(code=u'LSU', ctr=0.2193039203001682, code_count=15458, click_count=3390)\n",
      "Row(code=u'YTH', ctr=0.217458712504213, code_count=14835, click_count=3226)\n",
      "Row(code=u'SP6', ctr=0.21052631578947367, code_count=19, click_count=4)\n",
      "Row(code=u'CIV', ctr=0.2091543832428239, code_count=6445, click_count=1348)\n",
      "Row(code=u'WES', ctr=0.18840579710144928, code_count=276, click_count=52)\n",
      "Row(code=u'BR1', ctr=0.18621140170732794, code_count=7113689, click_count=1324650)\n",
      "Row(code=u'BGM', ctr=0.18514285714285714, code_count=1750, click_count=324)\n",
      "Row(code=u'CCA', ctr=0.18181818181818182, code_count=11, click_count=2)\n",
      "Row(code=u'OHV', ctr=0.17737749961837887, code_count=13102, click_count=2324)\n",
      "Row(code=u'MUC', ctr=0.1723453522990407, code_count=3023, click_count=521)\n",
      "Row(code=u'EA1', ctr=0.17203726328649968, code_count=13096, click_count=2253)\n",
      "Row(code=u'PRF', ctr=0.16811662717242928, code_count=846115, click_count=142246)\n",
      "Row(code=u'LBN', ctr=0.16666666666666666, code_count=6, click_count=1)\n",
      "Row(code=u'ALO', ctr=0.150688344857659, code_count=16053, click_count=2419)\n",
      "Row(code=u'E4T', ctr=0.1481340005347798, code_count=26179, click_count=3878)\n",
      "Row(code=u'EM1', ctr=0.14801821693696926, code_count=267663, click_count=39619)\n",
      "Row(code=u'SNM', ctr=0.1479358302681135, code_count=522801, click_count=77341)\n",
      "Row(code=u'SP4', ctr=0.143387314439946, code_count=2964, click_count=425)\n",
      "Row(code=u'BXE', ctr=0.14073087618973013, code_count=25531, click_count=3593)\n",
      "Row(code=u'FES', ctr=0.13971609319549452, code_count=12962, click_count=1811)\n",
      "Row(code=u'CJK', ctr=0.13591011989603421, code_count=11927, click_count=1621)\n",
      "Row(code=u'FFK', ctr=0.13114754098360656, code_count=61, click_count=8)\n",
      "Row(code=u'SGG', ctr=0.12875, code_count=800, click_count=103)\n",
      "Row(code=u'PAM', ctr=0.1284, code_count=2500, click_count=321)\n",
      "Row(code=u'SGR', ctr=0.12055558685975094, code_count=35494, click_count=4279)\n",
      "Row(code=u'CRW', ctr=0.1204278483430427, code_count=10471, click_count=1261)\n",
      "Row(code=u'SP1', ctr=0.11931818181818182, code_count=176, click_count=21)\n",
      "Row(code=u'BMD', ctr=0.11538189982631289, code_count=70817, click_count=8171)\n",
      "Row(code=u'TM0', ctr=0.10933700761873885, code_count=12338, click_count=1349)\n",
      "Row(code=u'SNP', ctr=0.10883913435236155, code_count=1918887, click_count=208850)\n",
      "Row(code=u'CRA', ctr=0.1087590787758396, code_count=16109, click_count=1752)\n",
      "Row(code=u'MGC', ctr=0.10804597701149425, code_count=1305, click_count=141)\n",
      "Row(code=u'FQA', ctr=0.10380952380952381, code_count=9450, click_count=981)\n",
      "Row(code=u'GG1', ctr=0.09423837520042758, code_count=46775, click_count=4408)\n",
      "Row(code=u'KIA', ctr=0.09049255441008018, code_count=9603, click_count=869)\n",
      "Row(code=u'NNS', ctr=0.09022238507286, code_count=5747598, click_count=518562)\n",
      "Row(code=u'IVR', ctr=0.08921164136461587, code_count=4130100, click_count=368453)\n",
      "Row(code=u'PLA', ctr=0.08885813148788928, code_count=7225, click_count=642)\n",
      "Row(code=u'UEZ', ctr=0.08016734509271822, code_count=35376, click_count=2836)\n",
      "Row(code=u'1CI', ctr=0.08014258472396958, code_count=252762, click_count=20257)\n",
      "Row(code=u'TYV', ctr=0.07936885505867428, code_count=163956, click_count=13013)\n",
      "Row(code=u'YON', ctr=0.07147623637576926, code_count=26974, click_count=1928)\n",
      "Row(code=u'VO2', ctr=0.07141600194727202, code_count=5012140, click_count=357947)\n",
      "Row(code=u'WSA', ctr=0.0710511285585149, code_count=5769085, click_count=409900)\n",
      "Row(code=u'CCB', ctr=0.0689857159400593, code_count=6675063, click_count=460484)\n",
      "Row(code=u'0PL', ctr=0.06438394224009815, code_count=2681445, click_count=172642)\n",
      "Row(code=u'LOL', ctr=0.05979643765903308, code_count=786, click_count=47)\n",
      "Row(code=u'GG2', ctr=0.05583953048039739, code_count=2676097, click_count=149432)\n",
      "Row(code=u'CFR', ctr=0.054667297484721024, code_count=154297, click_count=8435)\n",
      "Row(code=u'WBR', ctr=0.05049126637554585, code_count=3664, click_count=185)\n",
      "Row(code=u'APP', ctr=0.047619047619047616, code_count=42, click_count=2)\n",
      "Row(code=u'GVS', ctr=0.04618466009503986, code_count=25463, click_count=1176)\n",
      "Row(code=u'TRJ', ctr=0.04533760661070861, code_count=207179, click_count=9393)\n",
      "Row(code=u'IIM', ctr=0.041546363307390644, code_count=4816643, click_count=200114)\n",
      "Row(code=u'ESV', ctr=0.038699969906710804, code_count=16615, click_count=643)\n",
      "Row(code=u'ESQ', ctr=0.037121212121212124, code_count=2640, click_count=98)\n",
      "Row(code=u'1DV', ctr=0.03177924609355222, code_count=3140257, click_count=99795)\n",
      "Row(code=u'GYB', ctr=0.03092278169454758, code_count=95884, click_count=2965)\n",
      "Row(code=u'STR', ctr=0.029455081001472753, code_count=1358, click_count=40)\n",
      "Row(code=u'NKS', ctr=0.027282889984559005, code_count=4828704, click_count=131741)\n",
      "Row(code=u'FWZ', ctr=0.02702702702702703, code_count=333, click_count=9)\n",
      "Row(code=u'TWU', ctr=0.02614306436284617, code_count=179933, click_count=4704)\n",
      "Row(code=u'DIC', ctr=0.02486508227295392, code_count=725998, click_count=18052)\n",
      "Row(code=u'FZZ', ctr=0.020884520884520884, code_count=814, click_count=17)\n",
      "Row(code=u'MS2', ctr=0.01892744980359655, code_count=629826, click_count=11921)\n",
      "Row(code=u'PUD', ctr=0.01873687611048296, code_count=6191, click_count=116)\n",
      "Row(code=u'ISI', ctr=0.015278838808250574, code_count=1309, click_count=20)\n",
      "Row(code=u'AYF', ctr=0.014999252947945024, code_count=1030718, click_count=15460)\n",
      "Row(code=u'0SC', ctr=0.014514793182319437, code_count=648373, click_count=9411)\n",
      "Row(code=u'KOQ', ctr=0.014264651289319473, code_count=665351, click_count=9491)\n",
      "Row(code=u'KAS', ctr=0.014171822379311973, code_count=1037199, click_count=14699)\n",
      "Row(code=u'P5T', ctr=0.012810230844261406, code_count=46135, click_count=591)\n",
      "Row(code=u'JIM', ctr=0.012779552715654952, code_count=1565, click_count=20)\n",
      "Row(code=u'0WD', ctr=0.012072641123706292, code_count=594319, click_count=7175)\n",
      "Row(code=u'FAT', ctr=0.010822510822510822, code_count=6468, click_count=70)\n",
      "Row(code=u'LOA', ctr=0.009605970480113794, code_count=54133, click_count=520)\n",
      "Row(code=u'BRC', ctr=0.009512558027387258, code_count=2936329, click_count=27932)\n",
      "Row(code=u'VOL', ctr=0.0076302979348739945, code_count=141541, click_count=1080)\n",
      "Row(code=u'YHJ', ctr=0.0063740161844584855, code_count=252588, click_count=1610)\n",
      "Row(code=u'KTC', ctr=0.0056322520538663505, code_count=70842, click_count=399)\n",
      "Row(code=u'SCL', ctr=0.00546021840873635, code_count=1282, click_count=7)\n",
      "Row(code=u'OHE', ctr=0.005327095751905229, code_count=66265, click_count=353)\n",
      "Row(code=u'AMA', ctr=0.00518918035466209, code_count=48948, click_count=254)\n",
      "Row(code=u'LB2', ctr=0.004661869926515388, code_count=1695457, click_count=7904)\n",
      "Row(code=u'1SB', ctr=0.004321836873986861, code_count=375072, click_count=1621)\n",
      "Row(code=u'TGV', ctr=0.004076513013483851, code_count=3189, click_count=13)\n",
      "Row(code=u'W77', ctr=0.0018046830114237845, code_count=1702238, click_count=3072)\n",
      "Row(code=u'0BL', ctr=0.0011709834883674654, code_count=653297, click_count=765)\n",
      "Row(code=u'CLO', ctr=0.00019201610071277028, code_count=6145318, click_count=1180)\n"
     ]
    }
   ],
   "source": [
    "for ctr in pc_ctr_list:\n",
    "    print (ctr)"
   ]
  },
  {
   "cell_type": "code",
   "execution_count": null,
   "metadata": {},
   "outputs": [],
   "source": []
  }
 ],
 "metadata": {
  "kernelspec": {
   "display_name": "Python 2 - PySpark",
   "language": "python",
   "name": "python2_spark"
  },
  "language_info": {
   "codemirror_mode": {
    "name": "ipython",
    "version": 2
   },
   "file_extension": ".py",
   "mimetype": "text/x-python",
   "name": "python",
   "nbconvert_exporter": "python",
   "pygments_lexer": "ipython2",
   "version": "2.7.16"
  }
 },
 "nbformat": 4,
 "nbformat_minor": 2
}
