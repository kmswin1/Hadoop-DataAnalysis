{
 "cells": [
  {
   "cell_type": "code",
   "execution_count": 2,
   "metadata": {},
   "outputs": [
    {
     "data": {
      "text/html": [
       "\n",
       "            <div>\n",
       "                <p><b>SparkSession - hive</b></p>\n",
       "                \n",
       "        <div>\n",
       "            <p><b>SparkContext</b></p>\n",
       "\n",
       "            <p><a href=\"http://10.51.34.25:4043\">Spark UI</a></p>\n",
       "\n",
       "            <dl>\n",
       "              <dt>Version</dt>\n",
       "                <dd><code>v2.2.0</code></dd>\n",
       "              <dt>Master</dt>\n",
       "                <dd><code>yarn</code></dd>\n",
       "              <dt>AppName</dt>\n",
       "                <dd><code>jupyter notebook (lucas.0804)</code></dd>\n",
       "            </dl>\n",
       "        </div>\n",
       "        \n",
       "            </div>\n",
       "        "
      ],
      "text/plain": [
       "<pyspark.sql.session.SparkSession at 0x7f9c1c60bed0>"
      ]
     },
     "execution_count": 2,
     "metadata": {},
     "output_type": "execute_result"
    }
   ],
   "source": [
    "spark"
   ]
  },
  {
   "cell_type": "code",
   "execution_count": 3,
   "metadata": {},
   "outputs": [],
   "source": [
    "import json\n",
    "import numpy as np\n",
    "from collections import Counter\n",
    "data = spark.read.json('/Log/Type=Search/SubType1=Dialog/SubType2=Hour/Device=Mobile/Kind=Query/Year=2019/Month=07/Day=05/Hour=10')"
   ]
  },
  {
   "cell_type": "code",
   "execution_count": 4,
   "metadata": {},
   "outputs": [],
   "source": [
    "def preprocessing(data):\n",
    "    data1 = data.filter((data.inflow_channel == \"i\")&(data.tabcode == \"tot\"))\n",
    "    data3 = data1.select(\"dacode\",\"query\").collect()\n",
    "    uuid = data1.filter(data1.uuid != \"\").select(\"uuid\").collect()\n",
    "    totalQuery = data1.count()\n",
    "    return data3, uuid, totalQuery"
   ]
  },
  {
   "cell_type": "code",
   "execution_count": 7,
   "metadata": {},
   "outputs": [
    {
     "name": "stdout",
     "output_type": "stream",
     "text": [
      "root\n",
      " |-- adid: string (nullable = true)\n",
      " |-- adid_enabled: string (nullable = true)\n",
      " |-- bucket: struct (nullable = true)\n",
      " |    |-- id: string (nullable = true)\n",
      " |-- dacode: string (nullable = true)\n",
      " |-- display: struct (nullable = true)\n",
      " |    |-- CUT: array (nullable = true)\n",
      " |    |    |-- element: struct (containsNull = true)\n",
      " |    |    |    |-- code: string (nullable = true)\n",
      " |    |    |    |-- doc_count: long (nullable = true)\n",
      " |    |    |    |-- documents: array (nullable = true)\n",
      " |    |    |    |    |-- element: string (containsNull = true)\n",
      " |    |    |    |-- lineup_engine_score: long (nullable = true)\n",
      " |    |    |    |-- lineup_ranking_score: long (nullable = true)\n",
      " |    |-- SER: array (nullable = true)\n",
      " |    |    |-- element: struct (containsNull = true)\n",
      " |    |    |    |-- code: string (nullable = true)\n",
      " |    |    |    |-- doc_count: long (nullable = true)\n",
      " |    |    |    |-- documents: array (nullable = true)\n",
      " |    |    |    |    |-- element: struct (containsNull = true)\n",
      " |    |    |    |    |    |-- id: string (nullable = true)\n",
      " |    |    |    |    |    |-- subcode: string (nullable = true)\n",
      " |    |    |    |-- lineup_engine_score: double (nullable = true)\n",
      " |    |    |    |-- lineup_ranking_score: double (nullable = true)\n",
      " |    |-- SGR: array (nullable = true)\n",
      " |    |    |-- element: struct (containsNull = true)\n",
      " |    |    |    |-- code: string (nullable = true)\n",
      " |    |    |    |-- doc_count: long (nullable = true)\n",
      " |    |    |    |-- documents: array (nullable = true)\n",
      " |    |    |    |    |-- element: string (containsNull = true)\n",
      " |    |    |    |-- lineup_engine_score: long (nullable = true)\n",
      " |    |    |    |-- lineup_ranking_score: double (nullable = true)\n",
      " |    |-- SUI: array (nullable = true)\n",
      " |    |    |-- element: struct (containsNull = true)\n",
      " |    |    |    |-- code: string (nullable = true)\n",
      " |    |    |    |-- doc_count: long (nullable = true)\n",
      " |    |    |    |-- documents: array (nullable = true)\n",
      " |    |    |    |    |-- element: string (containsNull = true)\n",
      " |    |    |    |-- lineup_engine_score: long (nullable = true)\n",
      " |    |    |    |-- lineup_ranking_score: long (nullable = true)\n",
      " |-- extra: struct (nullable = true)\n",
      " |    |-- ency: struct (nullable = true)\n",
      " |    |    |-- encytype: string (nullable = true)\n",
      " |    |    |-- subname: string (nullable = true)\n",
      " |-- hostname: string (nullable = true)\n",
      " |-- idc: string (nullable = true)\n",
      " |-- inflow_channel: string (nullable = true)\n",
      " |-- marker: struct (nullable = true)\n",
      " |    |-- description: string (nullable = true)\n",
      " |    |-- level: string (nullable = true)\n",
      " |-- nation: string (nullable = true)\n",
      " |-- query: string (nullable = true)\n",
      " |-- query_string: string (nullable = true)\n",
      " |-- query_type: struct (nullable = true)\n",
      " |    |-- issue: boolean (nullable = true)\n",
      " |-- referer: string (nullable = true)\n",
      " |-- remote_ip: string (nullable = true)\n",
      " |-- request_time: string (nullable = true)\n",
      " |-- session_key: string (nullable = true)\n",
      " |-- ssn_sex: string (nullable = true)\n",
      " |-- tabcode: string (nullable = true)\n",
      " |-- transfer: struct (nullable = true)\n",
      " |    |-- auto: long (nullable = true)\n",
      " |    |-- clean: string (nullable = true)\n",
      " |    |-- koreng: long (nullable = true)\n",
      " |    |-- speller: long (nullable = true)\n",
      " |    |-- suggest: long (nullable = true)\n",
      " |-- user_agent: string (nullable = true)\n",
      " |-- user_id: string (nullable = true)\n",
      " |-- uuid: string (nullable = true)\n",
      "\n",
      "None\n"
     ]
    }
   ],
   "source": [
    "print (data.printSchema())\n",
    "refined_data, uuid, totalQuery = preprocessing(data)"
   ]
  },
  {
   "cell_type": "code",
   "execution_count": 5,
   "metadata": {},
   "outputs": [
    {
     "name": "stdout",
     "output_type": "stream",
     "text": [
      "1023462\n",
      "437429\n"
     ]
    }
   ],
   "source": [
    "print (totalQuery) # 통합 검색 유입 수\n",
    "deduplicated_uuid = list(set(uuid))\n",
    "print (len(deduplicated_uuid)) # uuid 수"
   ]
  },
  {
   "cell_type": "code",
   "execution_count": 8,
   "metadata": {},
   "outputs": [],
   "source": [
    "def extractGuideQuery(data):\n",
    "    query = []\n",
    "    userCode = [\"PV2\",\"PVS\",\"SRM\",\"SRE\",\"NKC\",\"3NW\",\"3IK\",\"3UO\",\"FXX\",\"BNR\",\"DISC\",\"CQV\"\n",
    "\n",
    ",\"CQC\",\"CQF\",\"CQH\",\"CZE\",\"ACAG\",\"YGE\",\"PGXS\",\"HFX\",\"R6T\",\"RAT\",\"RGT\",\"1TR\"\n",
    "\n",
    ",\"RNN\",\"EOA\",\"QNLI\",\"HTQ\",\"BSKM\",\"VLY\",\"FPJZ\",\"GLT\",\"1DR\",\"R1T\",\"R5T\"\n",
    "\n",
    ",\"AQL\",\"MBK\",\"ZSIQ\",\"VDZ\",\"LUIK\",\"MCO\",\"GCID\",\"R0T\",\"R7T\",\"DRU\",\"TSQE\"\n",
    "\n",
    ",\"SGZ\",\"PPKM\",\"LEE\",\"PQPL\",\"1MV\",\"1ET\",\"1TH\",\"RSTO\",\"RFE\",\"QPD\",\"JPDW\"\n",
    "\n",
    ",\"RME\",\"RMEO\",\"RKR\",\"R2T\",\"KYW\",\"OUJ\",\"R8T\",\"FWP\",\"IMY\",\"BXJ\",\"CQN\",\"CBX\"\n",
    "\n",
    ",\"DZR\",\"RFT\",\"3RT\",\"LEI\",\"BOCY\",\"RJT\",\"1BO\",\"R3T\",\"DTX\",\"FFJ\",\"PRG\",\"CHD\"\n",
    "\n",
    ",\"CAD\",\"CAO\",\"CQR\",\"CAH\",\"ACB\",\"ZZZ\",\"PES\",\"CXQ\",\"LHX\",\"IMZ\",\"KTFK\",\"FSY\"\n",
    "\n",
    ",\"TSP\",\"RXU\",\"BALE\",\"MVP\",\"WENY\",\"DKSX\",\"1SZ\",\"C80\",\"CBG\",\"CPF\",\"4SZ\"\n",
    "\n",
    ",\"RZKM\",\"4WH\",\"AWSA\",\"4TZ\",\"DPGR\",\"KUOW\",\"4HH\",\"4HZ\",\"GJOG\",\"BRGF\",\"4BZ\"\n",
    "\n",
    ",\"4CI\",\"NGHR\",\"WYUF\",\"4CJ\",\"4CH\",\"ENFH\",\"4CK\",\"GMVC\",\"4CL\",\"BOZD\",\"4CZ\"\n",
    "\n",
    ",\"RYZK\",\"NJFE\",\"4CM\",\"YWZM\",\"5BZ\",\"02L\",\"02I\",\"02H\",\"02P\",\"73L\",\"73H\"\n",
    "\n",
    ",\"IWW\",\"6HH\",\"P13\",\"P9I\",\"P9J\",\"P9K\",\"LAT\",\"LAH\",\"LAY\",\"LAM\",\"LAF\",\"P14\"\n",
    "\n",
    ",\"PSJ\",\"PSK\",\"ES2\",\"FUN\",\"G29\",\"G27\",\"TWF\",\"LIV\",\"YYG\",\"YYGZ\",\"G28\",\"TAS\"\n",
    "\n",
    ",\"XLTN\",\"TP2\",\"RP7\",\"EE2\",\"JIIE\",\"TP3\",\"TP4\",\"CAOV\",\"5GT\",\"QWGF\",\"QWG\"\n",
    "\n",
    ",\"XEO\",\"ZXEO\",\"TUAG\",\"UAG\",\"ATGF\",\"ATG\",\"TP5\",\"TZTN\",\"TP6\",\"QAFA\",\"PYU\"\n",
    "\n",
    ",\"TCN\",\"NPI\",\"NPIO\",\"OZZ\",\"TT3\",\"TMN\",\"TMO\",\"TTS\",\"STGZ\",\"LFQD\",\"TPO\"\n",
    "\n",
    ",\"13I\",\"13J\",\"13K\",\"13H\",\"YZDZ\",\"TP0\",\"TMZ\",\"04H\",\"SRP\",\"EVT\",\"EV1\",\"SCN\"\n",
    "\n",
    ",\"SCO\",\"SCT\",\"SCF\",\"SCP\",\"EV2\",\"11S\",\"11H\",\"11M\",\"12L\",\"12I\",\"12J\",\"12K\"\n",
    "\n",
    ",\"12H\",\"23P\",\"23Q\",\"23R\",\"23W\",\"EE1\",\"23L\",\"23I\",\"23J\",\"23K\",\"23H\",\"78I\"\n",
    "\n",
    ",\"78J\",\"78K\",\"78H\",\"77I\",\"77J\",\"77K\",\"77H\",\"DIK\",\"DIN\",\"DIP\",\"DIE\",\"DIH\"\n",
    "\n",
    ",\"ES0\",\"24I\",\"24J\",\"24K\",\"24M\",\"24H\",\"LGW\",\"16H\",\"16M\",\"SST\",\"SSS\",\"SH7\"\n",
    "\n",
    ",\"SHT\",\"MCZ\",\"MCY\",\"MCH\",\"MCX\",\"17L\",\"17I\",\"17J\",\"17K\",\"17H\",\"MEI\",\"MES\"\n",
    "\n",
    ",\"MEE\",\"MEH\",\"MPR\",\"18H\",\"18M\",\"21H\",\"MMRR\",\"22H\",\"27I\",\"27J\",\"27H\",\"27K\"\n",
    "\n",
    ",\"27M\",\"28H\",\"28M\",\"BIN\",\"BIP\",\"BIE\",\"BIH\",\"INV\",\"BZ5\",\"BZ7\",\"BZ6\",\"BZA\"\n",
    "\n",
    ",\"BZ4\",\"BZ9\",\"BZ8\",\"BZF\",\"P12\",\"ES3\",\"29S\",\"29L\",\"29I\",\"29J\",\"29K\",\"29H\"\n",
    "\n",
    ",\"31L\",\"31H\",\"BXH\",\"BXM\",\"LFQ\",\"STG\",\"SHA\",\"SHX\",\"SHY\",\"SHZ\",\"SHR\",\"SHH\"\n",
    "\n",
    ",\"XDP\",\"BESE\",\"25Z\",\"25I\",\"25J\",\"25K\",\"25H\",\"40L\",\"40I\",\"40H\",\"ALD\",\"ATN\"\n",
    "\n",
    ",\"PN1\",\"PE1\",\"P11\",\"26L\",\"26I\",\"26J\",\"26K\",\"26H\",\"26Q\",\"43H\",\"43M\",\"ESL\"\n",
    "\n",
    ",\"EB7\",\"EBD\",\"EB4\",\"EB6\",\"EB3\",\"EB5\",\"EBR\",\"EB2\",\"EB9\",\"EB8\",\"EB1\",\"EBC\"\n",
    "\n",
    ",\"EBA\",\"OFP\",\"30S\",\"30I\",\"30J\",\"30K\",\"30H\",\"53H\",\"53M\",\"54X\",\"54L\",\"54I\"\n",
    "\n",
    ",\"54J\",\"54K\",\"54H\",\"55L\",\"55H\",\"CSK\",\"CH6\",\"CH7\",\"CHH\",\"CH8\",\"CEV\",\"CH5\"\n",
    "\n",
    ",\"57M\",\"57H\",\"57N\",\"KML\",\"KMV\",\"KSW\",\"KTI\",\"KTJ\",\"KTK\",\"KTH\",\"KPH\",\"KPT\"\n",
    "\n",
    ",\"KH5\",\"KH4\",\"KH6\",\"79H\",\"79M\",\"60M\",\"60N\",\"60E\",\"60L\",\"60I\",\"60J\",\"60K\"\n",
    "\n",
    ",\"60H\",\"60Q\",\"60S\",\"60R\",\"60P\",\"62L\",\"62H\",\"ES1\",\"KTW\",\"XB4\",\"PCH\",\"WPNY\"\n",
    "\n",
    ",\"NVZ\",\"P9H\",\"69H\",\"69M\"]\n",
    "\n",
    "    for meta in data:\n",
    "        if meta[\"dacode\"] in userCode:\n",
    "            query.append(meta[\"query\"])\n",
    "    return query\n",
    "\n",
    "def extractUserQuery(data):\n",
    "    query = []\n",
    "    guideCode = [\"GQQ\",\"BNF\",\"OXW\",\"SBC\",\"CBC\",\"STCO\",\"MEK\",\"NSJ\",\"SJTO\",\"SDTO\",\"RSJ\"\n",
    "\n",
    ",\"TVZK\",\"DCC\",\"TOW\",\"BEA\",\"LPJ\",\"MLD\",\"HQQ\",\"V5A\",\"LCX\",\"MEU\",\"TOB\",\"YRI\"\n",
    "\n",
    ",\"OBYY\",\"SUG\",\"GIQ\",\"IHPV\",\"FKB\",\"HLYS\",\"EKS\",\"EKT\",\"ADYG\",\"FBQ\",\"Z00\"\n",
    "\n",
    ",\"NDA\",\"NSP\",\"SWTO\",\"NBC\",\"NKE\",\"AEO\",\"NBD\",\"BFT\",\"NBB\",\"TOV\",\"TOM\",\"JNB\"\n",
    "\n",
    ",\"OWI\",\"HHPP\",\"TBC\",\"LCY\",\"ARIV\",\"FFV\",\"KXL\",\"IBR\",\"XFN\",\"CAJ\",\"CAS\",\"CAC\"\n",
    "\n",
    ",\"CAB\",\"BFJ\",\"1SY\",\"OXLY\",\"1SE\",\"LRPG\",\"1SB\",\"HOOH\",\"MGDA\",\"1SC\",\"UEAK\"\n",
    "\n",
    ",\"1SF\",\"1SG\",\"MCSS\",\"1SA\",\"VVJJ\",\"1SD\",\"YWZE\",\"CSU\",\"CSR\",\"CSH\",\"CRK\"\n",
    "\n",
    ",\"4SY\",\"WERT\",\"4SW\",\"4SE\",\"DBDA\",\"4SB\",\"RYRR\",\"4SC\",\"KQDZ\",\"4SF\",\"FFGU\"\n",
    "\n",
    ",\"NNOC\",\"4SG\",\"XKPY\",\"4SA\",\"NTCE\",\"4SD\",\"ZHMB\",\"4TY\",\"4TW\",\"TFBY\",\"4TE\"\n",
    "\n",
    ",\"4TB\",\"HDJX\",\"4TC\",\"IWTD\",\"4TF\",\"FBBS\",\"4TG\",\"JYFA\",\"XECV\",\"4TA\",\"SXME\"\n",
    "\n",
    ",\"4TD\",\"4HY\",\"XZZM\",\"4HE\",\"DBSD\",\"4HB\",\"FHHG\",\"4HC\",\"JWIE\",\"4HF\",\"ZUEN\"\n",
    "\n",
    ",\"UYWP\",\"4HG\",\"SJAN\",\"4HA\",\"POKL\",\"4HD\",\"4BY\",\"FAFB\",\"NHJS\",\"4BB\",\"4BC\"\n",
    "\n",
    ",\"DLJF\",\"AOIT\",\"4BF\",\"4BG\",\"ZWUS\",\"4BA\",\"ZXKK\",\"4BD\",\"YVDE\",\"4CY\",\"UHWD\"\n",
    "\n",
    ",\"4CE\",\"HRPR\",\"4CB\",\"AIVF\",\"WOBG\",\"4CC\",\"TSGG\",\"4CF\",\"MWOD\",\"4CG\",\"4CA\"\n",
    "\n",
    ",\"WPNI\",\"4CD\",\"VCFA\",\"5BY\",\"LAJA\",\"GPLV\",\"5BB\",\"5BC\",\"ZUGC\",\"MLNC\",\"5BF\"\n",
    "\n",
    ",\"5BG\",\"YYHQ\",\"5BA\",\"HTEN\",\"5BD\",\"FQZH\",\"02C\",\"02D\",\"JU2\",\"JU1\",\"73C\"\n",
    "\n",
    ",\"73D\",\"LAS\",\"LAD\",\"LAR\",\"WFVZ\",\"TP1\",\"FLW\",\"CCC\",\"CCCS\",\"UMEF\",\"UME\"\n",
    "\n",
    ",\"UMZ\",\"BSZ\",\"BSZC\",\"VOSR\",\"VOS\",\"WHO\",\"WHOL\",\"YZR\",\"YZRR\",\"BJEZ\",\"BJE\"\n",
    "\n",
    ",\"TP7\",\"HFSV\",\"TDK\",\"04C\",\"04D\",\"08B\",\"08C\",\"08A\",\"08D\",\"NPF\",\"NTF\",\"NBF\"\n",
    "\n",
    ",\"11A\",\"12B\",\"12C\",\"12A\",\"12D\",\"13A\",\"23B\",\"CYRK\",\"23C\",\"MCEU\",\"23A\",\"23D\"\n",
    "\n",
    ",\"23T\",\"78B\",\"78C\",\"78D\",\"77B\",\"77C\",\"77D\",\"DRAG\",\"DRG\",\"DIF\",\"DID\",\"24B\"\n",
    "\n",
    ",\"24C\",\"24A\",\"24D\",\"SH5\",\"15B\",\"15C\",\"15A\",\"15D\",\"16B\",\"16C\",\"16A\",\"16D\"\n",
    "\n",
    ",\"MCG\",\"MCB\",\"17C\",\"17A\",\"17D\",\"21B\",\"21C\",\"21A\",\"21D\",\"MLS\",\"27B\",\"27C\"\n",
    "\n",
    ",\"27A\",\"27D\",\"28B\",\"28C\",\"28A\",\"28D\",\"BIF\",\"BID\",\"BZG\",\"BZ3\",\"BZ1\",\"BZ2\"\n",
    "\n",
    ",\"29B\",\"29C\",\"29A\",\"29D\",\"31B\",\"31C\",\"31A\",\"31D\",\"32A\",\"BXV\",\"BXW\",\"XDY\"\n",
    "\n",
    ",\"APMK\",\"XDB\",\"APSG\",\"APZC\",\"XDC\",\"XDF\",\"VOCR\",\"WHCL\",\"XDG\",\"XDA\",\"APBN\"\n",
    "\n",
    ",\"XDD\",\"APRE\",\"APRD\",\"XDZ\",\"33B\",\"33C\",\"33A\",\"33D\",\"JU3\",\"JU4\",\"SHS\",\"SHC\"\n",
    "\n",
    ",\"SHB\",\"SWB\",\"25B\",\"JOPK\",\"25C\",\"25A\",\"CNTO\",\"25D\",\"40B\",\"40C\",\"40A\",\"40D\"\n",
    "\n",
    ",\"AHW\",\"ACW\",\"AC3\",\"AC4\",\"ACF\",\"ACG\",\"AC1\",\"AC2\",\"ELF\",\"26B\",\"QCDU\",\"26C\"\n",
    "\n",
    ",\"26A\",\"MEFX\",\"26D\",\"43B\",\"43C\",\"43A\",\"43D\",\"45A\",\"SH6\",\"SHN\",\"SHM\",\"30B\"\n",
    "\n",
    ",\"30C\",\"30A\",\"30D\",\"51A\",\"JUE\",\"JUB\",\"JUC\",\"JUF\",\"JUG\",\"JUA\",\"NXVN\",\"JUD\"\n",
    "\n",
    ",\"53B\",\"53C\",\"53D\",\"54B\",\"54C\",\"54A\",\"54D\",\"74B\",\"74C\",\"74A\",\"74D\",\"CHS\"\n",
    "\n",
    ",\"CHB\",\"CHR\",\"57B\",\"57C\",\"57A\",\"57D\",\"KH3\",\"KH1\",\"KH2\",\"60B\",\"60C\",\"60A\"\n",
    "\n",
    ",\"60D\",\"62B\",\"62C\",\"62A\",\"62D\",\"QSU\",\"QSS\",\"QVO\",\"QMU\",\"QSE\",\"QSL\",\"JU6\"\n",
    "\n",
    ",\"JU5\",\"63A\",\"64B\",\"64C\",\"64A\",\"64D\",\"67B\",\"67A\",\"NVY\",\"AAVC\",\"NVW\",\"NVE\"\n",
    "\n",
    ",\"ZZOP\",\"NVB\",\"NVC\",\"NAAQ\",\"NVF\",\"NVG\",\"NVA\",\"VNGE\",\"NVD\",\"XLKC\",\"P09\"\n",
    "\n",
    ",\"69B\",\"69C\",\"69A\",\"69D\"]\n",
    "    \n",
    "    for meta in data:\n",
    "        if meta[\"dacode\"] in guideCode:\n",
    "            query.append(meta[\"query\"])\n",
    "    return query"
   ]
  },
  {
   "cell_type": "code",
   "execution_count": 91,
   "metadata": {},
   "outputs": [],
   "source": [
    "userQ = extractUserQuery(refined_data)\n",
    "guideQ = extractGuideQuery(refined_data)"
   ]
  },
  {
   "cell_type": "code",
   "execution_count": 7,
   "metadata": {},
   "outputs": [],
   "source": [
    "userQ = extractUserQuery(refined_data)"
   ]
  },
  {
   "cell_type": "code",
   "execution_count": 9,
   "metadata": {},
   "outputs": [],
   "source": [
    "guideQ = extractGuideQuery(refined_data)"
   ]
  },
  {
   "cell_type": "code",
   "execution_count": 38,
   "metadata": {},
   "outputs": [],
   "source": [
    "res = Counter(userQ).most_common(len(userQ))"
   ]
  },
  {
   "cell_type": "code",
   "execution_count": 42,
   "metadata": {},
   "outputs": [],
   "source": [
    "res = Counter(guideQ).most_common(len(guideQ))"
   ]
  },
  {
   "cell_type": "code",
   "execution_count": 40,
   "metadata": {},
   "outputs": [
    {
     "data": {
      "image/png": "[encoded data removed]",
      "text/plain": [
       "<Figure size 432x288 with 1 Axes>"
      ]
     },
     "metadata": {
      "needs_background": "light"
     },
     "output_type": "display_data"
    }
   ],
   "source": [
    "k = []\n",
    "t = 0\n",
    "for meta in res:\n",
    "    if t == 150:\n",
    "        break\n",
    "    k.append(meta[1])\n",
    "    t+=1\n",
    "    \n",
    "plt.plot(k)\n",
    "plt.show()"
   ]
  },
  {
   "cell_type": "code",
   "execution_count": 43,
   "metadata": {},
   "outputs": [
    {
     "data": {
      "image/png": "[encoded data removed]",
      "text/plain": [
       "<Figure size 432x288 with 1 Axes>"
      ]
     },
     "metadata": {
      "needs_background": "light"
     },
     "output_type": "display_data"
    }
   ],
   "source": [
    "k = []\n",
    "t = 0\n",
    "for meta in res:\n",
    "    if t == 150:\n",
    "        break\n",
    "    k.append(meta[1])\n",
    "    t+=1\n",
    "    \n",
    "plt.plot(k)\n",
    "plt.show()"
   ]
  },
  {
   "cell_type": "code",
   "execution_count": 92,
   "metadata": {
    "scrolled": true
   },
   "outputs": [
    {
     "name": "stdout",
     "output_type": "stream",
     "text": [
      "816405\n",
      "153008\n",
      "에스오일 주가\n"
     ]
    }
   ],
   "source": [
    "print (len(userQ))\n",
    "print (len(guideQ))\n",
    "print (userQ[0])"
   ]
  },
  {
   "cell_type": "code",
   "execution_count": 44,
   "metadata": {},
   "outputs": [],
   "source": [
    "def getTop10(userQ, guideQ, data):\n",
    "    data1 = data.filter(data.inflow_channel == \"i\")\n",
    "    data2 = data1.filter(data1.tabcode == \"tot\")\n",
    "    data3 = data2.select(\"query\").collect()\n",
    "    data_hasUid = data2.filter(data2.uuid != \"\")\n",
    "    data_hasUid = data_hasUid.dropDuplicates(['uuid']).select(\"query\").collect()\n",
    "    res_u = Counter(userQ).most_common(10)\n",
    "    res_g = Counter(guideQ).most_common(10)\n",
    "    res_d = Counter(data3).most_common(10)\n",
    "    res_i = Counter(data_hasUid).most_common(10)\n",
    "    return res_u, res_g, res_d, res_i"
   ]
  },
  {
   "cell_type": "code",
   "execution_count": 45,
   "metadata": {},
   "outputs": [],
   "source": [
    "res_u, res_g, res_d, res_i = getTop10(userQ ,guideQ, data)"
   ]
  },
  {
   "cell_type": "code",
   "execution_count": 13,
   "metadata": {},
   "outputs": [
    {
     "ename": "NameError",
     "evalue": "name 'res_d' is not defined",
     "output_type": "error",
     "traceback": [
      "\u001b[0;31m\u001b[0m",
      "\u001b[0;31mNameError\u001b[0mTraceback (most recent call last)",
      "\u001b[0;32m<ipython-input-13-bc0cf7fa3a9f>\u001b[0m in \u001b[0;36m<module>\u001b[0;34m()\u001b[0m\n\u001b[1;32m     21\u001b[0m \u001b[0mg_v\u001b[0m \u001b[0;34m=\u001b[0m \u001b[0;34m[\u001b[0m\u001b[0;34m]\u001b[0m\u001b[0;34m\u001b[0m\u001b[0m\n\u001b[1;32m     22\u001b[0m \u001b[0;34m\u001b[0m\u001b[0m\n\u001b[0;32m---> 23\u001b[0;31m \u001b[0;32mfor\u001b[0m \u001b[0mmeta\u001b[0m \u001b[0;32min\u001b[0m \u001b[0mres_d\u001b[0m\u001b[0;34m:\u001b[0m\u001b[0;34m\u001b[0m\u001b[0m\n\u001b[0m\u001b[1;32m     24\u001b[0m     \u001b[0mq_k\u001b[0m\u001b[0;34m.\u001b[0m\u001b[0mappend\u001b[0m\u001b[0;34m(\u001b[0m\u001b[0mmeta\u001b[0m\u001b[0;34m[\u001b[0m\u001b[0;36m0\u001b[0m\u001b[0;34m]\u001b[0m\u001b[0;34m.\u001b[0m\u001b[0mquery\u001b[0m\u001b[0;34m)\u001b[0m\u001b[0;34m\u001b[0m\u001b[0m\n\u001b[1;32m     25\u001b[0m     \u001b[0mq_v\u001b[0m\u001b[0;34m.\u001b[0m\u001b[0mappend\u001b[0m\u001b[0;34m(\u001b[0m\u001b[0mmeta\u001b[0m\u001b[0;34m[\u001b[0m\u001b[0;36m1\u001b[0m\u001b[0;34m]\u001b[0m\u001b[0;34m)\u001b[0m\u001b[0;34m\u001b[0m\u001b[0m\n",
      "\u001b[0;31mNameError\u001b[0m: name 'res_d' is not defined"
     ]
    }
   ],
   "source": [
    "import matplotlib\n",
    "import matplotlib.pyplot as plt\n",
    "import plotly.plotly as py\n",
    "import plotly.graph_objs as go\n",
    "import numpy as np\n",
    "from matplotlib import font_manager, rc\n",
    "\n",
    "font_manager.get_fontconfig_fonts()\n",
    "font_name = font_manager.FontProperties(fname=\"/usr/share/fonts/dejavu/NanumBarunGothicBold.ttf\").get_name()\n",
    "\n",
    "rc('font', family=font_name)\n",
    "\n",
    "\n",
    "q_k = []\n",
    "q_v = []\n",
    "i_k = []\n",
    "i_v = []\n",
    "u_k = []\n",
    "u_v = []\n",
    "g_k = []\n",
    "g_v = []\n",
    "\n",
    "for meta in res_d:\n",
    "    q_k.append(meta[0].query)\n",
    "    q_v.append(meta[1])\n",
    "    \n",
    "for meta in res_i:\n",
    "    i_k.append(meta[0].query)\n",
    "    i_v.append(meta[1])\n",
    "    \n",
    "for meta in res_u:\n",
    "    u_k.append(meta[0])\n",
    "    u_v.append(meta[1])\n",
    "    \n",
    "for meta in res_g:\n",
    "    g_k.append(meta[0])\n",
    "    g_v.append(meta[1])\n",
    "    "
   ]
  },
  {
   "cell_type": "code",
   "execution_count": 109,
   "metadata": {
    "scrolled": true
   },
   "outputs": [
    {
     "data": {
      "image/png": "[encoded data removed]",
      "text/plain": [
       "<Figure size 432x288 with 1 Axes>"
      ]
     },
     "metadata": {
      "needs_background": "light"
     },
     "output_type": "display_data"
    }
   ],
   "source": [
    "labels = q_v\n",
    "values = q_k\n",
    "\n",
    "#plt.bar(labels,values,width=0.7)\n",
    "plt.barh(values, labels, align='center')\n",
    "plt.show()"
   ]
  },
  {
   "cell_type": "code",
   "execution_count": 110,
   "metadata": {},
   "outputs": [
    {
     "data": {
      "image/png": "[encoded data removed]",
      "text/plain": [
       "<Figure size 432x288 with 1 Axes>"
      ]
     },
     "metadata": {
      "needs_background": "light"
     },
     "output_type": "display_data"
    }
   ],
   "source": [
    "labels = u_v\n",
    "values = u_k\n",
    "\n",
    "#plt.bar(labels,values,width=0.7)\n",
    "plt.barh(values, labels, align='center')\n",
    "plt.show()"
   ]
  },
  {
   "cell_type": "code",
   "execution_count": 111,
   "metadata": {},
   "outputs": [
    {
     "data": {
      "image/png": "[encoded data removed]",
      "text/plain": [
       "<Figure size 432x288 with 1 Axes>"
      ]
     },
     "metadata": {
      "needs_background": "light"
     },
     "output_type": "display_data"
    }
   ],
   "source": [
    "labels = g_v\n",
    "values = g_k\n",
    "\n",
    "#plt.bar(labels,values,width=0.7)\n",
    "plt.barh(values, labels, align='center')\n",
    "plt.show()"
   ]
  },
  {
   "cell_type": "code",
   "execution_count": 112,
   "metadata": {},
   "outputs": [
    {
     "data": {
      "image/png": "[encoded data removed]",
      "text/plain": [
       "<Figure size 432x288 with 1 Axes>"
      ]
     },
     "metadata": {
      "needs_background": "light"
     },
     "output_type": "display_data"
    }
   ],
   "source": [
    "labels = i_v\n",
    "values = i_k\n",
    "\n",
    "#plt.bar(labels,values,width=0.7)\n",
    "plt.barh(values, labels, align='center')\n",
    "plt.show()"
   ]
  },
  {
   "cell_type": "code",
   "execution_count": 93,
   "metadata": {},
   "outputs": [
    {
     "data": {
      "image/png": "[encoded data removed]",
      "text/plain": [
       "<Figure size 432x288 with 1 Axes>"
      ]
     },
     "metadata": {},
     "output_type": "display_data"
    }
   ],
   "source": [
    "plt.pie([totalQuery-len(userQ)-len(guideQ),len(userQ),len(guideQ)],labels=[\"others\",\"user\",\"guide\"], autopct='%1.1f%%')\n",
    "plt.show()"
   ]
  },
  {
   "cell_type": "code",
   "execution_count": 10,
   "metadata": {
    "scrolled": true
   },
   "outputs": [],
   "source": [
    "c = Counter(guideQ).most_common(len(guideQ))"
   ]
  },
  {
   "cell_type": "code",
   "execution_count": 15,
   "metadata": {},
   "outputs": [],
   "source": [
    "li = []\n",
    "n = []\n",
    "k = 0\n",
    "for meta in c:\n",
    "    if k == 100000: break\n",
    "    k+=1\n",
    "    li.append(np.log(meta[1]))\n",
    "\n",
    "for i in range(0,100):\n",
    "    n.append(i)\n",
    "\n",
    "del li[100:]\n"
   ]
  },
  {
   "cell_type": "code",
   "execution_count": 16,
   "metadata": {},
   "outputs": [
    {
     "data": {
      "image/png": "[encoded data removed]",
      "text/plain": [
       "<Figure size 432x288 with 1 Axes>"
      ]
     },
     "metadata": {
      "needs_background": "light"
     },
     "output_type": "display_data"
    }
   ],
   "source": [
    "plt.plot(n,li)\n",
    "plt.show()"
   ]
  },
  {
   "cell_type": "code",
   "execution_count": 66,
   "metadata": {},
   "outputs": [
    {
     "name": "stdout",
     "output_type": "stream",
     "text": [
      "3201\n"
     ]
    }
   ],
   "source": [
    "print (li[0])"
   ]
  },
  {
   "cell_type": "code",
   "execution_count": 47,
   "metadata": {},
   "outputs": [
    {
     "name": "stdout",
     "output_type": "stream",
     "text": [
      "[(Row(dacode=u'ATG'), 23553)]\n",
      "[(Row(dacode=u'ATG'), 11171)]\n",
      "[(Row(dacode=u'ATG'), 4411)]\n",
      "[(Row(dacode=u'ATG'), 2654)]\n",
      "[(Row(dacode=u'QPD'), 2554)]\n",
      "[(Row(dacode=u'BJE'), 1765)]\n",
      "[(Row(dacode=u'ATG'), 3148)]\n",
      "[(Row(dacode=u'ATG'), 2791)]\n",
      "[(Row(dacode=u'ATG'), 2041)]\n",
      "[(Row(dacode=u'ATG'), 1781)]\n"
     ]
    }
   ],
   "source": [
    "data1 = data.filter((data.inflow_channel == \"i\")&(data.tabcode == \"tot\"))\n",
    "for meta in q_k:\n",
    "    code = data1.filter(data1.query == meta).select(\"dacode\").collect()\n",
    "    code = Counter(code).most_common(1)\n",
    "    print (code)"
   ]
  },
  {
   "cell_type": "code",
   "execution_count": null,
   "metadata": {},
   "outputs": [],
   "source": [
    "for meta in u_k:\n",
    "    code = data1.filter(data1.query == meta).select(\"dacode\").collect()\n",
    "    code = Counter(code).most_common(1)\n",
    "    print (code)"
   ]
  },
  {
   "cell_type": "code",
   "execution_count": null,
   "metadata": {},
   "outputs": [],
   "source": [
    "for meta in g_k:\n",
    "    code = data1.filter(data1.query == meta).select(\"dacode\").collect()\n",
    "    code = Counter(code).most_common(1)\n",
    "    print (code)"
   ]
  },
  {
   "cell_type": "code",
   "execution_count": null,
   "metadata": {},
   "outputs": [],
   "source": [
    "for meta in i_k:\n",
    "    code = data1.filter(data1.query == meta).select(\"dacode\").collect()\n",
    "    code = Counter(code).most_common(1)\n",
    "    print (code)"
   ]
  },
  {
   "cell_type": "code",
   "execution_count": 104,
   "metadata": {},
   "outputs": [
    {
     "name": "stdout",
     "output_type": "stream",
     "text": [
      "[(Row(dacode=u'ATG'), 23553), (Row(dacode=u'QPD'), 3709), (Row(dacode=u'UME'), 551), (Row(dacode=u'RME'), 461), (Row(dacode=u'13H'), 415), (Row(dacode=u'23H'), 406), (Row(dacode=u'60P'), 385), (Row(dacode=u'YZR'), 150), (Row(dacode=u'17H'), 80), (Row(dacode=u'1TH'), 80)]\n"
     ]
    }
   ],
   "source": [
    "code = data1.filter(data1.query == q_k[0]).select(\"dacode\").collect()\n",
    "code = Counter(code).most_common(10)\n",
    "print (code)"
   ]
  },
  {
   "cell_type": "code",
   "execution_count": null,
   "metadata": {},
   "outputs": [],
   "source": []
  }
 ],
 "metadata": {
  "kernelspec": {
   "display_name": "Python 2 - PySpark",
   "language": "python",
   "name": "python2_spark"
  },
  "language_info": {
   "codemirror_mode": {
    "name": "ipython",
    "version": 2
   },
   "file_extension": ".py",
   "mimetype": "text/x-python",
   "name": "python",
   "nbconvert_exporter": "python",
   "pygments_lexer": "ipython2",
   "version": "2.7.16"
  }
 },
 "nbformat": 4,
 "nbformat_minor": 2
}
